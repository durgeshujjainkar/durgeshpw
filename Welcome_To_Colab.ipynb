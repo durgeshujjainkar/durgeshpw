{
  "cells": [
    {
      "cell_type": "code",
      "source": [
        "#Print numbers from 1 to 5 using a while loop.\n",
        "\n",
        "number = 1\n",
        "\n",
        "# Loop until the number is greater than 5\n",
        "while number <= 5:\n",
        "    print(number)  # Print the current number\n",
        "    number += 1  # Increment\n"
      ],
      "metadata": {
        "id": "JbwYqUvrNe_E",
        "outputId": "1b8a01c8-2861-4eb6-efd6-a29d017b5f0c",
        "colab": {
          "base_uri": "https://localhost:8080/"
        }
      },
      "execution_count": 1,
      "outputs": [
        {
          "output_type": "stream",
          "name": "stdout",
          "text": [
            "1\n",
            "2\n",
            "3\n",
            "4\n",
            "5\n"
          ]
        }
      ]
    },
    {
      "cell_type": "code",
      "source": [
        "#Calculate the sum of numbers from 1 to 10 using a while loop.\n",
        "\n",
        "# Initialize variables\n",
        "number = 1  # Starting number\n",
        "total_sum = 0  # To store the sum\n",
        "\n",
        "# Loop from 1 to 10\n",
        "while number <= 10:\n",
        "    total_sum += number  # Add the current number to total_sum\n",
        "    number += 1  # Increment the number by 1\n",
        "\n",
        "# Print the total sum\n",
        "print(\"The sum of numbers from 1 to 10 is:\", total_sum)\n"
      ],
      "metadata": {
        "id": "iKnb8IkfNy73",
        "outputId": "3a8498f5-ddfe-4295-f237-cbf8b5127fc1",
        "colab": {
          "base_uri": "https://localhost:8080/"
        }
      },
      "execution_count": 2,
      "outputs": [
        {
          "output_type": "stream",
          "name": "stdout",
          "text": [
            "The sum of numbers from 1 to 10 is: 55\n"
          ]
        }
      ]
    },
    {
      "cell_type": "code",
      "source": [
        "#calculate the factorial of a number using a for loop.\n",
        "\n",
        "# Input a number\n",
        "number = int(input(\"Enter a number: \"))\n",
        "\n",
        "# Initialize the factorial value\n",
        "factorial = 1\n",
        "\n",
        "# Calculate factorial using a for loop\n",
        "for i in range(1, number + 1):\n",
        "    factorial *= i  # Multiply current factorial value by i\n",
        "\n",
        "# Print the result\n",
        "print(f\"The factorial of {number} is: {factorial}\")\n"
      ],
      "metadata": {
        "id": "A4Mcija3OKfJ",
        "outputId": "fe928758-edcd-4f80-a629-c8b8bd3ec294",
        "colab": {
          "base_uri": "https://localhost:8080/"
        }
      },
      "execution_count": 4,
      "outputs": [
        {
          "output_type": "stream",
          "name": "stdout",
          "text": [
            "Enter a number: 34\n",
            "The factorial of 34 is: 295232799039604140847618609643520000000\n"
          ]
        }
      ]
    },
    {
      "cell_type": "code",
      "source": [
        "#Count the number of vowels in a string using a for loop.\n",
        "\n",
        "# Input a string\n",
        "text = input(\"Enter a string: \")\n",
        "\n",
        "# Initialize a counter for vowels\n",
        "vowel_count = 0\n",
        "\n",
        "# Define the vowels\n",
        "vowels = \"aeiouefhOU\"\n",
        "\n",
        "# Iterate through each character in the string\n",
        "for char in text:\n",
        "    if char in vowels:  # Check if the character is a vowel\n",
        "        vowel_count += 1\n",
        "\n",
        "# Print the result\n",
        "print(f\"The number of vowels in the string is: {vowel_count}\")\n"
      ],
      "metadata": {
        "id": "its2ZA9-OYk5",
        "outputId": "acb775e9-e16f-433e-f0b9-c9ef2b139fb9",
        "colab": {
          "base_uri": "https://localhost:8080/"
        }
      },
      "execution_count": 3,
      "outputs": [
        {
          "output_type": "stream",
          "name": "stdout",
          "text": [
            "Enter a string: errc\n",
            "The number of vowels in the string is: 1\n"
          ]
        }
      ]
    },
    {
      "cell_type": "code",
      "source": [
        "#Print a pattern using nested loops\n",
        "\n",
        "# Number of rows for the pattern\n",
        "rows = 5\n",
        "\n",
        "# Outer loop for each row\n",
        "for i in range(1, rows + 1):\n",
        "    # Inner loop to print spaces\n",
        "    for j in range(rows - i):\n",
        "        print(\" \", end=\"\")\n",
        "    # Inner loop to print stars\n",
        "    for k in range(2 * i - 1):\n",
        "        print(\"*\", end=\"\")\n",
        "    # Move to the next line\n",
        "    print()\n"
      ],
      "metadata": {
        "id": "DBKfPqfZOwp-",
        "outputId": "888113ea-c2a9-4144-ea78-3f6ac257457f",
        "colab": {
          "base_uri": "https://localhost:8080/"
        }
      },
      "execution_count": 5,
      "outputs": [
        {
          "output_type": "stream",
          "name": "stdout",
          "text": [
            "    *\n",
            "   ***\n",
            "  *****\n",
            " *******\n",
            "*********\n"
          ]
        }
      ]
    },
    {
      "cell_type": "code",
      "source": [
        "#Generate a multiplication table using nested loops.\n",
        "\n",
        "# Input the number for the table\n",
        "number = int(input(\"Enter a number: \"))\n",
        "\n",
        "# Outer loop (fixed, since we're generating the table for one number)\n",
        "for i in range(1, 11):\n",
        "    # Inner loop to repeat the print logic for a single number\n",
        "    for j in range(1, 2):  # Use `1, 2` to loop just once (to mimic nesting)\n",
        "        print(f\"{number} x {i} = {number * i}\")\n",
        "\n"
      ],
      "metadata": {
        "id": "kPSgjkCaPCBt",
        "outputId": "8fe1193c-7c92-4b6f-e12d-536a7b8611a8",
        "colab": {
          "base_uri": "https://localhost:8080/"
        }
      },
      "execution_count": 6,
      "outputs": [
        {
          "output_type": "stream",
          "name": "stdout",
          "text": [
            "Enter a number: 5\n",
            "5 x 1 = 5\n",
            "5 x 2 = 10\n",
            "5 x 3 = 15\n",
            "5 x 4 = 20\n",
            "5 x 5 = 25\n",
            "5 x 6 = 30\n",
            "5 x 7 = 35\n",
            "5 x 8 = 40\n",
            "5 x 9 = 45\n",
            "5 x 10 = 50\n"
          ]
        }
      ]
    }
  ],
  "metadata": {
    "colab": {
      "name": "Welcome To Colab",
      "toc_visible": true,
      "provenance": []
    },
    "kernelspec": {
      "display_name": "Python 3",
      "name": "python3"
    }
  },
  "nbformat": 4,
  "nbformat_minor": 0
}