{
 "cells": [
  {
   "cell_type": "code",
   "execution_count": null,
   "metadata": {},
   "outputs": [],
   "source": [
    "Assignemt of dAtA structure"
   ]
  },
  {
   "cell_type": "markdown",
   "metadata": {},
   "source": [
    "Q1 Why might you choose a deque from the collections module to implement a queue instead\n",
    "of using a regular Python list?\n",
    "A queue is a type of data structure where items are stored in such a way that the first item added is\n",
    "the first\n",
    "one to be removed (FIFO - First In, First Out). Both Deque (Double-ended Queue) and a Python list\n",
    "can be used to\n",
    "implement a queue, but using a deque is generally preferred. Let me explain the comparison in simple\n",
    "terms:\n",
    "Advantages of Deque\n",
    "Fast operations: When you add or remove items from the front or back of a deque, it happens very\n",
    "quickly. These\n",
    "operations take constant time, which is O(1).\n",
    "Efficient for queues: A deque is designed to work well as a queue, offering efficient operations at both\n",
    "ends.\n",
    "Problems with Python list:\n",
    "Slow at the front: If you want to remove an item from the front of a list, it becomes slow. This operation\n",
    "takes\n",
    "O(n) time because Python has to shift all the remaining items.\n",
    "Efficient only at the end: A list is fast when adding or removing items from the end, but it is slow when\n",
    "doing\n",
    "the same at the front.\n",
    "So, deque is better for implementing queues because it works efficiently at both ends, while a list is\n",
    "less efficient\n",
    "when removing items from the front."
   ]
  },
  {
   "cell_type": "markdown",
   "metadata": {},
   "source": [
    "# 2 can you explain a real-world scenario where using a stack would be a more practical\n",
    "choice than a list for data storage and retrieval?\n",
    "'''A real-world example of using a stack is the \"back\" button in a web browser. When you visit pages,\n",
    "the browser stores\n",
    "them in a stack, and when you press \"back,\" it shows you the last page you visited first. A stack\n",
    "works in\n",
    "LIFO (Last In, First Out) order, making it the most practical choice for this scenario.'''\n"
   ]
  },
  {
   "cell_type": "markdown",
   "metadata": {},
   "source": [
    "#3. What is the primary advantage of using sets in Python, and in what type of problemsolving scenarios are they most useful?\n",
    "'''\n",
    "Sets in Python are useful because they automatically remove duplicates and allow for fast checking if\n",
    "an item is present.\n",
    "Sets only store unique items.\n",
    "Checking if an item exists is fast (O(1) time).\n",
    "You can perform set operations like union, intersection, and difference"
   ]
  },
  {
   "cell_type": "markdown",
   "metadata": {},
   "source": [
    "\n",
    "#4. When might you choose to use an array instead of a list for storing numerical data in\n",
    "Python? What benefits do arrays offer in this context?\n",
    "'''\n",
    "You might choose to use an array instead of a list in Python for storing numerical data when you need\n",
    "better performance and more memory efficiency.\n",
    "Benefits of arrays:\n",
    "Faster operations: Arrays are more efficient than lists for numerical operations, as they are designed\n",
    "to store data of the same type\n",
    "(like integers or floats).This makes operations like addition, subtraction, and multiplication faster.\n",
    "Memory efficiency: Arrays use less memory than lists because they store elements in a more compact\n",
    "way (all elements are of the same type and size).\n",
    "Lists can store mixed data types, which takes up more space.\n",
    "Better support for large datasets: Arrays are particularly useful when you have large datasets of\n",
    "numbers and need to perform numerical computations.\n",
    "like NumPy use arrays and provide powerful tools for mathematical operations.\n",
    "\n",
    " "
   ]
  },
  {
   "cell_type": "markdown",
   "metadata": {},
   "source": [
    "#5. In Python, what's the primary difference between dictionaries and lists, and how does this\n",
    "difference impact their use cases in programming?\n",
    "'''The primary difference between dictionaries and lists in Python is how they store and access data:\n",
    "Lists:\n",
    "Order-based: Lists store items in a specific order, and each item has an index (starting from 0).\n",
    "Access by index: You access list elements by their index position.\n",
    "Example: my_list = [10, 20, 30], to access the first element, use my_list[0].\n",
    "Dictionaries:\n",
    "Key-value pairs: Dictionaries store data as key-value pairs. Each item is accessed using a unique key.\n",
    "Access by key: You access dictionary values by their associated keys, not by index.\n",
    "Example: my_dict = {\"name\": \"Alice\", \"age\": 25}, to access the value for \"name\", use my_dict[\"name\"].\n",
    "Impact on use cases:\n",
    "Lists are useful when:\n",
    "You need to store ordered data.\n",
    "You want to access items by position.\n",
    "Example use case: Storing a sequence of numbers or names.\n",
    "Dictionaries are useful when:\n",
    "You need to store data in key-value pairs.\n",
    "You want to quickly access data by a specific key.\n",
    "Example use case: Storing user details where each key is a unique identifier (like \"name\" or \"age\").'''\n",
    "\n"
   ]
  },
  {
   "cell_type": "code",
   "execution_count": null,
   "metadata": {},
   "outputs": [],
   "source": []
  },
  {
   "cell_type": "code",
   "execution_count": null,
   "metadata": {},
   "outputs": [],
   "source": []
  },
  {
   "cell_type": "code",
   "execution_count": null,
   "metadata": {},
   "outputs": [],
   "source": []
  }
 ],
 "metadata": {
  "kernelspec": {
   "display_name": "Python 3",
   "language": "python",
   "name": "python3"
  },
  "language_info": {
   "name": "python",
   "version": "3.12.6"
  }
 },
 "nbformat": 4,
 "nbformat_minor": 2
}
