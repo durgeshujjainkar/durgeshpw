{
  "cells": [
    {
      "cell_type": "code",
      "source": [
        "#Write a program to print numbers from 1 to 10, but stop if the number is 5.\n",
        "\n",
        "# Loop through numbers from 1 to 10\n",
        "for number in range(1, 11):\n",
        "    if number == 5:  # Check if the number is 5\n",
        "        break  # Stop the loop\n",
        "    print(number)\n"
      ],
      "metadata": {
        "id": "zzb22HusRds6",
        "outputId": "ff510dda-bcf3-424d-c05e-a2fee9c6e9cf",
        "colab": {
          "base_uri": "https://localhost:8080/"
        }
      },
      "execution_count": 7,
      "outputs": [
        {
          "output_type": "stream",
          "name": "stdout",
          "text": [
            "1\n",
            "2\n",
            "3\n",
            "4\n"
          ]
        }
      ]
    },
    {
      "cell_type": "code",
      "source": [
        "#Write a program to iterate through a list and stop when encountering a specific element\n",
        "\n",
        "# Define the list\n",
        "elements = [\"apple\", \"banana\", \"cherry\", \"date\", \"grape\"]\n",
        "\n",
        "# Define the specific element to stop at\n",
        "stop_element = \"cherry\"\n",
        "\n",
        "# Iterate through the list\n",
        "for item in elements:\n",
        "    if item == stop_element:  # Check if the current element matches the stop element\n",
        "        break  # Stop the loop\n",
        "    print(item)\n"
      ],
      "metadata": {
        "id": "-jos1kqMRumW",
        "outputId": "c45736ed-abb1-408f-dfc9-a6eae9d7c6ea",
        "colab": {
          "base_uri": "https://localhost:8080/"
        }
      },
      "execution_count": 9,
      "outputs": [
        {
          "output_type": "stream",
          "name": "stdout",
          "text": [
            "apple\n",
            "banana\n"
          ]
        }
      ]
    },
    {
      "cell_type": "code",
      "source": [
        "#Write a program to skip printing even numbers from 1 to 10.\n",
        "\n",
        "# Loop through numbers from 1 to 10\n",
        "for number in range(1, 11):\n",
        "    if number % 2 == 0:  # Check if the number is even\n",
        "        continue  # Skip even numbers\n",
        "    print(number)\n"
      ],
      "metadata": {
        "id": "_BO9ZqFdSBoG",
        "outputId": "e2454efb-7be9-4bb2-c901-853f824d6664",
        "colab": {
          "base_uri": "https://localhost:8080/"
        }
      },
      "execution_count": 8,
      "outputs": [
        {
          "output_type": "stream",
          "name": "stdout",
          "text": [
            "1\n",
            "3\n",
            "5\n",
            "7\n",
            "9\n"
          ]
        }
      ]
    },
    {
      "cell_type": "code",
      "source": [
        "#Write a program to print numbers from 0 to 9 using range().\n",
        "\n",
        "# Loop through numbers from 0 to 9 using range\n",
        "for number in range(10):\n",
        "    print(number)\n"
      ],
      "metadata": {
        "id": "_wJayhHMSXye",
        "outputId": "ed61ec06-fad5-4586-d0e9-682f699f5ef2",
        "colab": {
          "base_uri": "https://localhost:8080/"
        }
      },
      "execution_count": 10,
      "outputs": [
        {
          "output_type": "stream",
          "name": "stdout",
          "text": [
            "0\n",
            "1\n",
            "2\n",
            "3\n",
            "4\n",
            "5\n",
            "6\n",
            "7\n",
            "8\n",
            "9\n"
          ]
        }
      ]
    },
    {
      "cell_type": "code",
      "source": [
        "\"\"\"Write a program to print multiplication tables from 1 to 5, but stop after the first table is printed for each\n",
        "number.\"\"\"\n",
        "# Loop through numbers from 1 to 5\n",
        "for number in range(1, 6):\n",
        "    # Only print the first line of each multiplication table\n",
        "    print(f\"Multiplication table of {number}: {number} x 1 = {number}\")\n"
      ],
      "metadata": {
        "id": "wSjlvww0S1IZ",
        "outputId": "8bc8e238-ec60-41c4-b021-bafdfaec69ab",
        "colab": {
          "base_uri": "https://localhost:8080/"
        }
      },
      "execution_count": 11,
      "outputs": [
        {
          "output_type": "stream",
          "name": "stdout",
          "text": [
            "Multiplication table of 1: 1 x 1 = 1\n",
            "Multiplication table of 2: 2 x 1 = 2\n",
            "Multiplication table of 3: 3 x 1 = 3\n",
            "Multiplication table of 4: 4 x 1 = 4\n",
            "Multiplication table of 5: 5 x 1 = 5\n"
          ]
        }
      ]
    },
    {
      "cell_type": "code",
      "source": [
        "#Write a program to skip printing even numbers using a while loop.\n",
        "\n",
        "# Initialize the number\n",
        "number = 1\n",
        "\n",
        "# Loop until the number reaches 10\n",
        "while number <= 10:\n",
        "    if number % 2 == 0:  # If the number is even\n",
        "        number += 1\n",
        "        continue  # Skip even numbers\n",
        "    print(number)\n",
        "    number += 1\n"
      ],
      "metadata": {
        "id": "81dQdtlgTTcN",
        "outputId": "bc9fed43-87c5-4fdd-8348-dcefad48ad47",
        "colab": {
          "base_uri": "https://localhost:8080/"
        }
      },
      "execution_count": 12,
      "outputs": [
        {
          "output_type": "stream",
          "name": "stdout",
          "text": [
            "1\n",
            "3\n",
            "5\n",
            "7\n",
            "9\n"
          ]
        }
      ]
    }
  ],
  "metadata": {
    "colab": {
      "name": "Welcome To Colab",
      "toc_visible": true,
      "provenance": []
    },
    "kernelspec": {
      "display_name": "Python 3",
      "name": "python3"
    }
  },
  "nbformat": 4,
  "nbformat_minor": 0
}