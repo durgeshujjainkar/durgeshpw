{
 "cells": [
  {
   "cell_type": "markdown",
   "metadata": {},
   "source": [
    "Assignemt of inbuilt-strings"
   ]
  },
  {
   "cell_type": "markdown",
   "metadata": {},
   "source": [
    "Assignemt of inbuilt-strings\n",
    "Q 1. What is the purpose of the len() function in Python, and how can it be used with strings?\n",
    "The len() function in Python tells you how many characters are in a string. It counts every letter,\n",
    "space, and punctuation mark. For example, if you have a sentence, len() will tell you how many total\n",
    "characters are in it\n",
    "\n",
    "\n",
    "\n",
    " "
   ]
  },
  {
   "cell_type": "markdown",
   "metadata": {},
   "source": [
    "# 2. How can you concatenate two or more strings in Python, and can you provide an example\n",
    "of string concatenation?\n",
    "In Python, you can concatenate two or more strings by using the + operator. This combines the\n",
    "strings into one continuous string.\n",
    "Example : If you have two strings, \"Hello\" and \"World\", you can combine them like this: \"Hello\" + \" \" +\n",
    "\"World\"\n",
    "This will result in the string \"Hello World\", where the space is added manually between the two words.\n"
   ]
  },
  {
   "cell_type": "markdown",
   "metadata": {},
   "source": [
    "#3. What is string slicing in Python, and how can you extract a portion of a string using this\n",
    "method?\n",
    "String slicing in Python allows you to extract a part of a string by specifying a start and end position. It\n",
    "lets you get a substring from the original string.\n",
    "To slice a string, you use the following format:\n",
    "string[start:end]\n",
    "start: The index where the slice begins (inclusive).\n",
    "end: The index where the slice ends (exclusive).\n",
    "If you don’t specify a start or end, Python will assume the start as the beginning or the end as the end\n",
    "of the string.\n"
   ]
  },
  {
   "cell_type": "markdown",
   "metadata": {},
   "source": [
    "#4. How can you change the case of a string in Python, and can you provide examples of both\n",
    "making a string all uppercase and all lowercase?\n",
    "In Python, you can change the case of a string using the built-in methods .upper() and .lower().\n",
    ".upper(): Converts all characters in the string to uppercase.\n",
    ".lower(): Converts all characters in the string to lowercase.\n"
   ]
  },
  {
   "cell_type": "markdown",
   "metadata": {},
   "source": [
    "# 5. What does the split() method do in Python, and how can you split a string using a specific\n",
    "delimiter?\n",
    "The split() method in Python is used to break a string into a list of smaller substrings based on a\n",
    "specified delimiter (separator). By default, it splits the string at spaces, but you can provide a custom\n",
    "delimiter if needed.\n",
    "How it works:\n",
    "If you don’t provide a delimiter, split() will divide the string wherever there are spaces or whitespace\n",
    "characters.\n",
    "If you provide a specific delimiter, it will split the string at every occurrence of that delimiter."
   ]
  }
 ],
 "metadata": {
  "language_info": {
   "name": "python"
  }
 },
 "nbformat": 4,
 "nbformat_minor": 2
}
